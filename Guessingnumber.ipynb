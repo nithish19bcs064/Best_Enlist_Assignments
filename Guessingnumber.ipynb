{
  "nbformat": 4,
  "nbformat_minor": 0,
  "metadata": {
    "colab": {
      "name": "Guessingnumber.ipynb",
      "provenance": []
    },
    "kernelspec": {
      "name": "python3",
      "display_name": "Python 3"
    },
    "language_info": {
      "name": "python"
    }
  },
  "cells": [
    {
      "cell_type": "code",
      "metadata": {
        "colab": {
          "base_uri": "https://localhost:8080/"
        },
        "id": "cqihQxxm4F8h",
        "outputId": "3cdd062f-5b22-4e9c-9dcc-a279bb98011d"
      },
      "source": [
        "import random\n",
        "n = random.randint(1,10)\n",
        "guess = int(input(\"Enter an integer from 1 to 10: \"))\n",
        "while n != \"guess\":\n",
        "    print\n",
        "    if guess < n:\n",
        "        print( \"guess is low\")\n",
        "        guess = int(input(\"Enter an integer from 1 to 10: \"))\n",
        "    elif guess > n:\n",
        "        print (\"guess is high\")\n",
        "        guess = int(input(\"Enter an integer from 1 to 10: \"))\n",
        "    else:\n",
        "        print (\"-------you guessed it!------\",n)\n",
        "        break\n"
      ],
      "execution_count": 26,
      "outputs": [
        {
          "output_type": "stream",
          "text": [
            "Enter an integer from 1 to 10: 1\n",
            "guess is low\n",
            "Enter an integer from 1 to 10: 2\n",
            "guess is low\n",
            "Enter an integer from 1 to 10: 5\n",
            "guess is low\n",
            "Enter an integer from 1 to 10: 6\n",
            "guess is low\n",
            "Enter an integer from 1 to 10: 7\n",
            "-------you guessed it!------ 7\n"
          ],
          "name": "stdout"
        }
      ]
    }
  ]
}