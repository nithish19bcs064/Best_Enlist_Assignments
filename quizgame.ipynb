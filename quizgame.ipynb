{
  "nbformat": 4,
  "nbformat_minor": 0,
  "metadata": {
    "colab": {
      "name": "quizgame.ipynb",
      "provenance": []
    },
    "kernelspec": {
      "name": "python3",
      "display_name": "Python 3"
    },
    "language_info": {
      "name": "python"
    }
  },
  "cells": [
    {
      "cell_type": "code",
      "metadata": {
        "colab": {
          "base_uri": "https://localhost:8080/"
        },
        "id": "Pl4TD1Ix52kl",
        "outputId": "9e1eb707-b837-4702-e1e1-dcc4a7f827d1"
      },
      "source": [
        "def check_guess(guess, answer):\n",
        "    global score\n",
        "    still_guessing = True\n",
        "    attempt = 0\n",
        "    while still_guessing and attempt < 3:\n",
        "        if guess.lower() == answer.lower():\n",
        "            print(\"Correct Answer\")\n",
        "            score = score + 1\n",
        "            still_guessing = False\n",
        "        else:\n",
        "            if attempt < 2:\n",
        "                guess = input(\"Sorry Wrong Answer, try again\")\n",
        "            attempt = attempt + 1\n",
        "    if attempt == 3:\n",
        "        print(\"The Correct answer is \",answer )\n",
        "    \n",
        "score = 0\n",
        "print(\"Guess the Animal\")\n",
        "guess1 = input(\"Which bear lives at the North Pole? \")\n",
        "check_guess(guess1, \"polar bear\")\n",
        "guess2 = input(\"Which is the fastest land animal? \")\n",
        "check_guess(guess2, \"Cheetah\")\n",
        "guess3 = input(\"Which is the larget animal? \")\n",
        "check_guess(guess3, \"Blue Whale\")\n",
        "print(\"Your Score is \"+ str(score))"
      ],
      "execution_count": 28,
      "outputs": [
        {
          "output_type": "stream",
          "text": [
            "Guess the Animal\n",
            "Which bear lives at the North Pole? b\n",
            "Sorry Wrong Answer, try againb\n",
            "Sorry Wrong Answer, try againb\n",
            "The Correct answer is  polar bear\n",
            "Which is the fastest land animal? cheetah\n",
            "Correct Answer\n",
            "Which is the larget animal? e\n",
            "Sorry Wrong Answer, try againw\n",
            "Sorry Wrong Answer, try againe\n",
            "The Correct answer is  Blue Whale\n",
            "Your Score is 1\n"
          ],
          "name": "stdout"
        }
      ]
    }
  ]
}