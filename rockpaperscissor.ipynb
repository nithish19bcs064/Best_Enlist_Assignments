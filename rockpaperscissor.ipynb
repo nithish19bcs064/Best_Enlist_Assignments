{
  "nbformat": 4,
  "nbformat_minor": 0,
  "metadata": {
    "colab": {
      "name": "rockpaperscissor.ipynb",
      "provenance": []
    },
    "kernelspec": {
      "name": "python3",
      "display_name": "Python 3"
    },
    "language_info": {
      "name": "python"
    }
  },
  "cells": [
    {
      "cell_type": "code",
      "metadata": {
        "colab": {
          "base_uri": "https://localhost:8080/"
        },
        "id": "o14qA5dDzlsX",
        "outputId": "5a00f798-828a-48a2-d3a1-31717404caeb"
      },
      "source": [
        "import random\n",
        "  \n",
        "while True:\n",
        "    print(\"Enter choice \\n 1. Rock \\n 2. paper \\n 3. scissor \\n\")\n",
        "    choice = int(input(\"User turn: \"))\n",
        "\n",
        "    while choice > 3 or choice < 1:\n",
        "        choice = int(input(\"enter valid input: \"))\n",
        "          \n",
        "    if choice == 1:\n",
        "        choice_name = 'Rock'\n",
        "    elif choice == 2:\n",
        "        choice_name = 'paper'\n",
        "    else:\n",
        "        choice_name = 'scissor'\n",
        "          \n",
        "    \n",
        "    print(\"user choice is: \" + choice_name)\n",
        "    print(\"\\nNow its computer turn.......\")\n",
        "  \n",
        "  \n",
        "    comp_choice = random.randint(1, 3)\n",
        "    \n",
        "    while comp_choice == choice:\n",
        "        comp_choice = random.randint(1, 3)\n",
        "  \n",
        "    if comp_choice == 1:\n",
        "        comp_choice_name = 'Rock'\n",
        "    elif comp_choice == 2:\n",
        "        comp_choice_name = 'paper'\n",
        "    else:\n",
        "        comp_choice_name = 'scissor'\n",
        "          \n",
        "    print(\"Computer choice is:\" + comp_choice_name)\n",
        "  \n",
        "    print(choice_name + \" V/s \" + comp_choice_name)\n",
        "  \n",
        "    # condition for winning\n",
        "    if((choice == 1 and comp_choice == 2) or\n",
        "      (choice == 2 and comp_choice ==1 )):\n",
        "        print(\"paper wins => \", end = \"\")\n",
        "        \n",
        "          \n",
        "    elif((choice == 1 and comp_choice == 3) or\n",
        "        (choice == 3 and comp_choice == 1)):\n",
        "        print(\"Rock wins =>\", end = \"\")\n",
        "        \n",
        "    else:\n",
        "        print(\"scissor wins =>\", end = \"\")\n",
        "        \n",
        "  \n",
        "   \n",
        "    if result == choice_name:\n",
        "        print(\"\\n<== User wins ==>\")\n",
        "    else:\n",
        "        print(\"\\n<== Computer wins ==>\")\n",
        "          \n",
        "    print(\"Do you want to play again? (Y/N)\")\n",
        "    ans = input()\n",
        "  \n",
        "  \n",
        "   \n",
        "    if ans == 'n' or ans == 'N':\n",
        "        break\n",
        "\n",
        "print(\"\\Game Ended...\")"
      ],
      "execution_count": 5,
      "outputs": [
        {
          "output_type": "stream",
          "text": [
            "Enter choice \n",
            " 1. Rock \n",
            " 2. paper \n",
            " 3. scissor \n",
            "\n",
            "User turn: 1\n",
            "user choice is: Rock\n",
            "\n",
            "Now its computer turn.......\n",
            "Computer choice is:scissor\n",
            "Rock V/s scissor\n",
            "Rock wins =>\n",
            "<== User wins ==>\n",
            "Do you want to play again? (Y/N)\n",
            "n\n",
            "\\Game Ended...\n"
          ],
          "name": "stdout"
        }
      ]
    }
  ]
}